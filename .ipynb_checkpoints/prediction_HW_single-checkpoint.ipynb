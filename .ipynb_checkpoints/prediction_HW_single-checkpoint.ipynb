{
 "cells": [
  {
   "cell_type": "code",
   "execution_count": 1,
   "id": "293727c3",
   "metadata": {},
   "outputs": [],
   "source": [
    "import numpy as np\n",
    "import keras.utils as image\n",
    "import tensorflow as tf\n",
    "import matplotlib.pyplot as plt"
   ]
  },
  {
   "cell_type": "code",
   "execution_count": 191,
   "id": "24d6f5ee",
   "metadata": {},
   "outputs": [],
   "source": [
    "test_image = image.load_img('./Images/7a.jpg', target_size = (28, 28), color_mode = 'grayscale')"
   ]
  },
  {
   "cell_type": "code",
   "execution_count": 192,
   "id": "438d351c",
   "metadata": {},
   "outputs": [],
   "source": [
    "test_image.save('new_image.jpg')\n",
    "test_image = image.load_img('./new_image.jpg', target_size = (28, 28), color_mode = 'grayscale')"
   ]
  },
  {
   "cell_type": "code",
   "execution_count": 193,
   "id": "3d4768c0",
   "metadata": {},
   "outputs": [
    {
     "name": "stdout",
     "output_type": "stream",
     "text": [
      "(28, 28, 1)\n"
     ]
    }
   ],
   "source": [
    "test_image = image.img_to_array(test_image)\n",
    "print(test_image.shape)"
   ]
  },
  {
   "cell_type": "code",
   "execution_count": 194,
   "id": "f602bc1e",
   "metadata": {},
   "outputs": [
    {
     "name": "stdout",
     "output_type": "stream",
     "text": [
      "(28, 28)\n"
     ]
    }
   ],
   "source": [
    "test_image = test_image.reshape((28, 28))\n",
    "print(test_image.shape)"
   ]
  },
  {
   "cell_type": "code",
   "execution_count": 195,
   "id": "b50411e0",
   "metadata": {},
   "outputs": [
    {
     "name": "stdout",
     "output_type": "stream",
     "text": [
      "(1, 28, 28, 1)\n"
     ]
    }
   ],
   "source": [
    "test_image = np.expand_dims(test_image, axis = 0)\n",
    "test_image = np.expand_dims(test_image, axis = 3)\n",
    "# test_image = test_image.reshape((1, 28, 28, 1))\n",
    "print(test_image.shape)\n",
    "test_image = test_image / 255\n",
    "# print(test_image)"
   ]
  },
  {
   "cell_type": "code",
   "execution_count": 196,
   "id": "1a821c5f",
   "metadata": {},
   "outputs": [],
   "source": [
    "model_name = './digits_recognition_cnn.h5'\n",
    "loaded_model = tf.keras.models.load_model((model_name))"
   ]
  },
  {
   "cell_type": "code",
   "execution_count": 197,
   "id": "9a1f21ef",
   "metadata": {},
   "outputs": [
    {
     "name": "stdout",
     "output_type": "stream",
     "text": [
      "1/1 [==============================] - 0s 98ms/step\n",
      "[[0.03906848 0.01320545 0.00606625 0.00578624 0.01054544 0.50154734\n",
      "  0.1398204  0.00151757 0.28181085 0.00063202]]\n"
     ]
    }
   ],
   "source": [
    "prediction = loaded_model.predict(test_image)\n",
    "print(prediction)"
   ]
  },
  {
   "cell_type": "code",
   "execution_count": 198,
   "id": "e0f4240b",
   "metadata": {},
   "outputs": [
    {
     "data": {
      "image/png": "[encoded data removed]",
      "text/plain": [
       "<Figure size 640x480 with 1 Axes>"
      ]
     },
     "metadata": {},
     "output_type": "display_data"
    }
   ],
   "source": [
    "plt.imshow(test_image.reshape((28, 28)), cmap=plt.cm.binary)\n",
    "plt.show()"
   ]
  },
  {
   "cell_type": "code",
   "execution_count": 199,
   "id": "c9d89322",
   "metadata": {},
   "outputs": [
    {
     "name": "stdout",
     "output_type": "stream",
     "text": [
      "[5]\n"
     ]
    }
   ],
   "source": [
    "print(np.argmax(prediction, axis=1))"
   ]
  },
  {
   "cell_type": "code",
   "execution_count": null,
   "id": "8aeba555",
   "metadata": {},
   "outputs": [],
   "source": []
  }
 ],
 "metadata": {
  "kernelspec": {
   "display_name": "Python 3 (ipykernel)",
   "language": "python",
   "name": "python3"
  },
  "language_info": {
   "codemirror_mode": {
    "name": "ipython",
    "version": 3
   },
   "file_extension": ".py",
   "mimetype": "text/x-python",
   "name": "python",
   "nbconvert_exporter": "python",
   "pygments_lexer": "ipython3",
   "version": "3.10.13"
  }
 },
 "nbformat": 4,
 "nbformat_minor": 5
}
