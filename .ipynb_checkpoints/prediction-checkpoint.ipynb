{
 "cells": [
  {
   "cell_type": "code",
   "execution_count": 1,
   "id": "155cabbb",
   "metadata": {},
   "outputs": [],
   "source": [
    "import matplotlib.pyplot as plt\n",
    "import tensorflow as tf\n",
    "import pandas as pd\n",
    "import numpy as np\n",
    "import math\n",
    "\n",
    "from PIL import Image\n",
    "from skimage.io import imread, imshow"
   ]
  },
  {
   "cell_type": "code",
   "execution_count": 28,
   "id": "e22029e9",
   "metadata": {},
   "outputs": [
    {
     "name": "stdout",
     "output_type": "stream",
     "text": [
      "(364, 364)\n"
     ]
    }
   ],
   "source": [
    "image = Image.open('./Images/1.jpg')\n",
    "print(image.size)"
   ]
  },
  {
   "cell_type": "code",
   "execution_count": 29,
   "id": "a3da1c3a",
   "metadata": {},
   "outputs": [
    {
     "name": "stdout",
     "output_type": "stream",
     "text": [
      "<PIL.JpegImagePlugin.JpegImageFile image mode=RGB size=364x364 at 0x259C745AEF0>\n"
     ]
    }
   ],
   "source": [
    "print(image)"
   ]
  },
  {
   "cell_type": "code",
   "execution_count": 30,
   "id": "9410c76b",
   "metadata": {},
   "outputs": [
    {
     "name": "stdout",
     "output_type": "stream",
     "text": [
      "(28, 28)\n"
     ]
    }
   ],
   "source": [
    "new_image = image.resize((28, 28))\n",
    "print(new_image.size)\n",
    "# new_image.show()\n",
    "new_image = new_image.save('new_image.jpg')"
   ]
  },
  {
   "cell_type": "code",
   "execution_count": 31,
   "id": "c009b65b",
   "metadata": {},
   "outputs": [
    {
     "name": "stdout",
     "output_type": "stream",
     "text": [
      "None\n"
     ]
    }
   ],
   "source": [
    "print(new_image)"
   ]
  },
  {
   "cell_type": "code",
   "execution_count": 32,
   "id": "09e9d414",
   "metadata": {},
   "outputs": [
    {
     "name": "stdout",
     "output_type": "stream",
     "text": [
      "(28, 28)\n",
      "784\n",
      "[[0.66853451 0.66853451 0.66938275 0.66714275 0.66884706 0.66660706\n",
      "  0.66745529 0.66745529 0.68287373 0.64365804 0.6912902  0.62797961\n",
      "  0.62797961 0.69660353 0.64170157 0.65991765 0.71202824 0.65937333\n",
      "  0.66019961 0.67951765 0.66073608 0.66576667 0.68340235 0.67555922\n",
      "  0.67106431 0.6716298  0.66967255 0.66575098]\n",
      " [0.6691     0.6691     0.66938275 0.66714275 0.66884706 0.66660706\n",
      "  0.6668898  0.66745529 0.65934431 0.68287373 0.6285451  0.6403098\n",
      "  0.69072471 0.64366588 0.63050235 0.69185569 0.55516549 0.59270667\n",
      "  0.66019961 0.68343922 0.65681451 0.6618451  0.68340235 0.67948078\n",
      "  0.67106431 0.6716298  0.66967255 0.66575098]\n",
      " [0.66938275 0.66938275 0.66714275 0.66714275 0.66884706 0.66268549\n",
      "  0.66296824 0.66296824 0.64309255 0.6862298  0.61342431 0.66832627\n",
      "  0.67224784 0.62911059 0.68009098 0.58850314 0.35292549 0.51427529\n",
      "  0.66019961 0.68343922 0.65289294 0.6618451  0.67948078 0.67555922\n",
      "  0.67106431 0.6716298  0.66967255 0.66575098]\n",
      " [0.66770824 0.66770824 0.66770824 0.66378667 0.66492549 0.66492549\n",
      "  0.66268549 0.65904667 0.64533255 0.64309255 0.66832627 0.67392941\n",
      "  0.60362392 0.67085608 0.67645922 0.36778627 0.23976549 0.48290275\n",
      "  0.66412118 0.67559608 0.65681451 0.6736098  0.67555922 0.66379451\n",
      "  0.67106431 0.6716298  0.66967255 0.66575098]\n",
      " [0.66575098 0.66575098 0.66827373 0.66378667 0.66492549 0.66100392\n",
      "  0.66100392 0.65708235 0.64533255 0.63917098 0.68569412 0.6310749\n",
      "  0.63388745 0.6775902  0.47955451 0.25659059 0.24033098 0.50643216\n",
      "  0.67196431 0.66383137 0.66465765 0.68537451 0.66771608 0.6520298\n",
      "  0.67106431 0.6716298  0.66967255 0.66575098]\n",
      " [0.66688196 0.66631647 0.66182941 0.66435216 0.66100392 0.65708235\n",
      "  0.65651686 0.65708235 0.6450498  0.67054353 0.64676118 0.58626314\n",
      "  0.69859686 0.57423765 0.25463333 0.34147333 0.2927102  0.55741255\n",
      "  0.67980745 0.65206667 0.66857922 0.68537451 0.65595137 0.6520298\n",
      "  0.67106431 0.6716298  0.66967255 0.66575098]\n",
      " [0.66464196 0.66464196 0.6623949  0.66182941 0.65876392 0.65708235\n",
      "  0.65259529 0.65316078 0.65289294 0.66326588 0.63556196 0.6266098\n",
      "  0.60168863 0.40421843 0.29274    0.44960275 0.34033451 0.59270667\n",
      "  0.68765059 0.6481451  0.66857922 0.6736098  0.6402651  0.67163765\n",
      "  0.67106431 0.6716298  0.66967255 0.66575098]\n",
      " [0.66492471 0.66464196 0.66296039 0.65847333 0.65484235 0.65708235\n",
      "  0.65316078 0.64923922 0.66886196 0.61620706 0.66469451 0.70251843\n",
      "  0.41149608 0.2804098  0.48686118 0.48517961 0.35378078 0.60447137\n",
      "  0.69157216 0.6481451  0.66857922 0.65792353 0.63242196 0.68732392\n",
      "  0.67106431 0.6716298  0.66967255 0.66575098]\n",
      " [0.66100314 0.69209294 0.66296039 0.62317922 0.6551251  0.67837176\n",
      "  0.65876392 0.63915608 0.60779843 0.67951765 0.68038078 0.49075373\n",
      "  0.2585549  0.40254392 0.62019451 0.4734149  0.31064353 0.60839294\n",
      "  0.67980745 0.66383137 0.68818706 0.66576667 0.66379451 0.67163765\n",
      "  0.67106431 0.6716298  0.66967255 0.66967255]\n",
      " [0.65679882 0.66464196 0.6747251  0.67080353 0.65961216 0.64784745\n",
      "  0.63943882 0.64392588 0.65206667 0.67307333 0.44957373 0.28347608\n",
      "  0.39973137 0.60982157 0.62243451 0.40254392 0.30896196 0.60447137\n",
      "  0.67588588 0.6599098  0.68818706 0.66576667 0.66379451 0.67163765\n",
      "  0.67106431 0.6716298  0.66967255 0.66967255]\n",
      " [0.67080353 0.64727412 0.6747251  0.69433294 0.64952902 0.62992118\n",
      "  0.65009451 0.65793765 0.63834471 0.48596902 0.27366863 0.35014275\n",
      "  0.59160549 0.68992745 0.60029686 0.40814    0.3044749  0.6005498\n",
      "  0.66804275 0.65206667 0.68034392 0.6618451  0.66379451 0.67555922\n",
      "  0.67106431 0.6716298  0.66967255 0.66967255]\n",
      " [0.68535882 0.65006471 0.6623949  0.6747251  0.64617294 0.65822039\n",
      "  0.6677451  0.6290949  0.46412118 0.3235102  0.39663608 0.62857412\n",
      "  0.64818196 0.64090431 0.63698275 0.43698275 0.30307608 0.59662824\n",
      "  0.66412118 0.6481451  0.67642235 0.65792353 0.66379451 0.67555922\n",
      "  0.66714275 0.66770824 0.66575098 0.66575098]\n",
      " [0.6716298  0.66435216 0.65398627 0.65119569 0.66214196 0.67223216\n",
      "  0.61173412 0.51005608 0.32939608 0.44312157 0.62857412 0.70644\n",
      "  0.60700196 0.64957373 0.68486784 0.4266098  0.30643216 0.6005498\n",
      "  0.66412118 0.64422353 0.67250078 0.65792353 0.66379451 0.67555922\n",
      "  0.66714275 0.66770824 0.66575098 0.66575098]\n",
      " [0.64193176 0.67498588 0.65790784 0.65511725 0.6795098  0.61957725\n",
      "  0.48428667 0.40642078 0.45993882 0.62800078 0.64818196 0.6319302\n",
      "  0.6529298  0.66301294 0.60726275 0.45909137 0.31763137 0.60839294\n",
      "  0.67196431 0.6481451  0.67250078 0.65792353 0.65987294 0.67555922\n",
      "  0.66322118 0.66378667 0.66182941 0.66182941]\n",
      " [0.64164902 0.69683373 0.66043059 0.65511725 0.67223216 0.51005608\n",
      "  0.3789698  0.46188824 0.6299651  0.66386039 0.6056102  0.6266098\n",
      "  0.68262078 0.6504     0.57364314 0.43863529 0.32939608 0.61623608\n",
      "  0.67588588 0.6481451  0.67250078 0.65400196 0.65987294 0.67555922\n",
      "  0.66322118 0.66378667 0.66182941 0.66182941]\n",
      " [0.66153961 0.71028    0.64866588 0.64670863 0.65037725 0.4290949\n",
      "  0.34506745 0.58456588 0.63359686 0.63751843 0.67645137 0.67310314\n",
      "  0.59128588 0.67392941 0.66718745 0.32797529 0.33723922 0.62407922\n",
      "  0.67980745 0.64954392 0.6767051  0.65232745 0.65987294 0.67163765\n",
      "  0.66322118 0.66378667 0.66435216 0.66435216]\n",
      " [0.6668898  0.66296824 0.65484235 0.64699922 0.63915608 0.63523451\n",
      "  0.63131294 0.63159569 0.66353373 0.64952902 0.66185922 0.63385765\n",
      "  0.66382353 0.6389102  0.62181725 0.37841216 0.35292549 0.60390588\n",
      "  0.6725298  0.66636118 0.67503059 0.65317569 0.66492549 0.65987294\n",
      "  0.66938275 0.66938275 0.66714275 0.66714275]\n",
      " [0.66129373 0.65961216 0.6551251  0.65316078 0.65259529 0.6520298\n",
      "  0.65455255 0.65455255 0.66436    0.65316078 0.66296824 0.63384275\n",
      "  0.66382353 0.6414251  0.61986    0.37448275 0.36525569 0.60782745\n",
      "  0.67281255 0.66243961 0.67167451 0.64701412 0.66492549 0.65987294\n",
      "  0.66938275 0.6691     0.66938275 0.66938275]\n",
      " [0.65961216 0.65961216 0.65904667 0.66100392 0.66436    0.66771608\n",
      "  0.67416039 0.67808196 0.66043843 0.65316078 0.66296824 0.63384275\n",
      "  0.66382353 0.6414251  0.62349882 0.38064431 0.38429804 0.61791059\n",
      "  0.6725298  0.65851804 0.66383137 0.64309255 0.66492549 0.65987294\n",
      "  0.66938275 0.6691     0.66938275 0.66938275]\n",
      " [0.66353373 0.65904667 0.65904667 0.66100392 0.66492549 0.66828157\n",
      "  0.67163765 0.67555922 0.66043843 0.64923922 0.66296824 0.63384275\n",
      "  0.66606353 0.64085961 0.62349882 0.38064431 0.40222431 0.62967529\n",
      "  0.67196431 0.65010941 0.6599098  0.64309255 0.66492549 0.66043843\n",
      "  0.66546118 0.66517843 0.66546118 0.66546118]\n",
      " [0.66745529 0.6668898  0.66296824 0.66100392 0.66100392 0.66043843\n",
      "  0.65987294 0.66379451 0.65651686 0.64923922 0.65876392 0.63608275\n",
      "  0.66578078 0.64029412 0.62966039 0.38428314 0.40978471 0.63331412\n",
      "  0.66804275 0.65010941 0.6599098  0.64925412 0.66492549 0.66043843\n",
      "  0.66546118 0.66546118 0.66546118 0.66546118]\n",
      " [0.67137686 0.6668898  0.66268549 0.66100392 0.65708235 0.65259529\n",
      "  0.6520298  0.6520298  0.65651686 0.64531765 0.65876392 0.63608275\n",
      "  0.66578078 0.64645569 0.6290949  0.38652314 0.41314078 0.62882706\n",
      "  0.67028275 0.64954392 0.66718745 0.65709725 0.66884706 0.65651686\n",
      "  0.66153961 0.66153961 0.66153961 0.66153961]\n",
      " [0.67081137 0.6668898  0.66268549 0.66100392 0.65708235 0.65651686\n",
      "  0.65651686 0.65651686 0.65259529 0.64531765 0.65876392 0.63608275\n",
      "  0.66521529 0.64617294 0.63076941 0.38931373 0.41145922 0.62714549\n",
      "  0.66579569 0.64954392 0.67503059 0.66494039 0.67052863 0.65651686\n",
      "  0.66153961 0.66153961 0.66153961 0.66153961]\n",
      " [0.67081137 0.6668898  0.66268549 0.65876392 0.66100392 0.66043843\n",
      "  0.66436    0.66436    0.65259529 0.64531765 0.65876392 0.63551725\n",
      "  0.66745529 0.64560745 0.63440824 0.39155373 0.40697216 0.62265843\n",
      "  0.6652302  0.65598824 0.67838667 0.66886196 0.67052863 0.65708235\n",
      "  0.65929961 0.66153961 0.66153961 0.66153961]\n",
      " [0.66268549 0.66268549 0.66268549 0.65876392 0.66100392 0.65708235\n",
      "  0.65651686 0.65651686 0.66884706 0.66884706 0.65092078 0.63943882\n",
      "  0.66296824 0.67137686 0.6047102  0.50835255 0.48343922 0.58932157\n",
      "  0.67951765 0.68287373 0.66270039 0.66494039 0.66268549 0.65316078\n",
      "  0.66322118 0.66322118 0.66322118 0.65929961]\n",
      " [0.66268549 0.66268549 0.66268549 0.65876392 0.66100392 0.65708235\n",
      "  0.65651686 0.65651686 0.65316078 0.66884706 0.66268549 0.64699922\n",
      "  0.65904667 0.67865451 0.65120353 0.59686706 0.60052078 0.64757961\n",
      "  0.67503059 0.65093569 0.64533255 0.66465765 0.6766902  0.66492549\n",
      "  0.66322118 0.66322118 0.66322118 0.65929961]\n",
      " [0.66268549 0.66268549 0.66492549 0.66100392 0.66100392 0.65708235\n",
      "  0.65708235 0.65708235 0.64139608 0.67276863 0.6766902  0.65316078\n",
      "  0.64307765 0.66660706 0.67837176 0.6668898  0.6767051  0.67838667\n",
      "  0.65877882 0.63356784 0.64141098 0.67250078 0.68061176 0.65708235\n",
      "  0.66378667 0.66378667 0.66322118 0.65929961]\n",
      " [0.66268549 0.66268549 0.66492549 0.66100392 0.66100392 0.65708235\n",
      "  0.65708235 0.65708235 0.64923922 0.67276863 0.6766902  0.64923922\n",
      "  0.63523451 0.65092078 0.66268549 0.66268549 0.65709725 0.66101882\n",
      "  0.65317569 0.64533255 0.66073608 0.68034392 0.66884706 0.64139608\n",
      "  0.66378667 0.66378667 0.66322118 0.65929961]]\n"
     ]
    }
   ],
   "source": [
    "features = imread('./new_image.jpg', as_gray=True)\n",
    "print(features.shape)\n",
    "print(features.size) \n",
    "print(features)"
   ]
  },
  {
   "cell_type": "code",
   "execution_count": 33,
   "id": "a4f44da3",
   "metadata": {},
   "outputs": [],
   "source": [
    "model_name = 'digits_recognition_cnn.h5'\n",
    "loaded_model = tf.keras.models.load_model((model_name))"
   ]
  },
  {
   "cell_type": "code",
   "execution_count": 34,
   "id": "cb24c572",
   "metadata": {},
   "outputs": [
    {
     "name": "stdout",
     "output_type": "stream",
     "text": [
      "1/1 [==============================] - 0s 112ms/step\n"
     ]
    }
   ],
   "source": [
    "new_data_point = features.reshape((-1, 28, 28, 1))\n",
    "predictions_one_hot = loaded_model.predict(new_data_point)"
   ]
  },
  {
   "cell_type": "code",
   "execution_count": 35,
   "id": "444f6e8d",
   "metadata": {},
   "outputs": [
    {
     "data": {
      "text/html": [
       "<div>\n",
       "<style scoped>\n",
       "    .dataframe tbody tr th:only-of-type {\n",
       "        vertical-align: middle;\n",
       "    }\n",
       "\n",
       "    .dataframe tbody tr th {\n",
       "        vertical-align: top;\n",
       "    }\n",
       "\n",
       "    .dataframe thead th {\n",
       "        text-align: right;\n",
       "    }\n",
       "</style>\n",
       "<table border=\"1\" class=\"dataframe\">\n",
       "  <thead>\n",
       "    <tr style=\"text-align: right;\">\n",
       "      <th></th>\n",
       "      <th>0</th>\n",
       "      <th>1</th>\n",
       "      <th>2</th>\n",
       "      <th>3</th>\n",
       "      <th>4</th>\n",
       "      <th>5</th>\n",
       "      <th>6</th>\n",
       "      <th>7</th>\n",
       "      <th>8</th>\n",
       "      <th>9</th>\n",
       "    </tr>\n",
       "  </thead>\n",
       "  <tbody>\n",
       "    <tr>\n",
       "      <th>0</th>\n",
       "      <td>0.051504</td>\n",
       "      <td>0.090036</td>\n",
       "      <td>0.047203</td>\n",
       "      <td>0.060997</td>\n",
       "      <td>0.039619</td>\n",
       "      <td>0.123905</td>\n",
       "      <td>0.068773</td>\n",
       "      <td>0.021682</td>\n",
       "      <td>0.421411</td>\n",
       "      <td>0.074871</td>\n",
       "    </tr>\n",
       "  </tbody>\n",
       "</table>\n",
       "</div>"
      ],
      "text/plain": [
       "          0         1         2         3         4         5         6  \\\n",
       "0  0.051504  0.090036  0.047203  0.060997  0.039619  0.123905  0.068773   \n",
       "\n",
       "          7         8         9  \n",
       "0  0.021682  0.421411  0.074871  "
      ]
     },
     "execution_count": 35,
     "metadata": {},
     "output_type": "execute_result"
    }
   ],
   "source": [
    "pd.DataFrame(predictions_one_hot)"
   ]
  },
  {
   "cell_type": "code",
   "execution_count": 36,
   "id": "96270381",
   "metadata": {},
   "outputs": [
    {
     "data": {
      "text/html": [
       "<div>\n",
       "<style scoped>\n",
       "    .dataframe tbody tr th:only-of-type {\n",
       "        vertical-align: middle;\n",
       "    }\n",
       "\n",
       "    .dataframe tbody tr th {\n",
       "        vertical-align: top;\n",
       "    }\n",
       "\n",
       "    .dataframe thead th {\n",
       "        text-align: right;\n",
       "    }\n",
       "</style>\n",
       "<table border=\"1\" class=\"dataframe\">\n",
       "  <thead>\n",
       "    <tr style=\"text-align: right;\">\n",
       "      <th></th>\n",
       "      <th>0</th>\n",
       "    </tr>\n",
       "  </thead>\n",
       "  <tbody>\n",
       "    <tr>\n",
       "      <th>0</th>\n",
       "      <td>8</td>\n",
       "    </tr>\n",
       "  </tbody>\n",
       "</table>\n",
       "</div>"
      ],
      "text/plain": [
       "   0\n",
       "0  8"
      ]
     },
     "execution_count": 36,
     "metadata": {},
     "output_type": "execute_result"
    }
   ],
   "source": [
    "predictions = np.argmax(predictions_one_hot, axis=1)\n",
    "pd.DataFrame(predictions)"
   ]
  },
  {
   "cell_type": "code",
   "execution_count": 37,
   "id": "5ee7189f",
   "metadata": {},
   "outputs": [
    {
     "name": "stdout",
     "output_type": "stream",
     "text": [
      "[8]\n"
     ]
    }
   ],
   "source": [
    "print(predictions)"
   ]
  },
  {
   "cell_type": "code",
   "execution_count": 38,
   "id": "05e148d5",
   "metadata": {},
   "outputs": [
    {
     "data": {
      "image/png": "[encoded data removed]",
      "text/plain": [
       "<Figure size 640x480 with 1 Axes>"
      ]
     },
     "metadata": {},
     "output_type": "display_data"
    }
   ],
   "source": [
    "plt.imshow(new_data_point.reshape((28, 28)), cmap=plt.cm.binary)\n",
    "plt.show()"
   ]
  },
  {
   "cell_type": "code",
   "execution_count": 39,
   "id": "b82b79ae",
   "metadata": {},
   "outputs": [
    {
     "data": {
      "image/png": "[encoded data removed]",
      "text/plain": [
       "<Figure size 500x500 with 1 Axes>"
      ]
     },
     "metadata": {},
     "output_type": "display_data"
    }
   ],
   "source": [
    "num_cells = math.ceil(math.sqrt(1))\n",
    "plt.figure(figsize=(5, 5))\n",
    "\n",
    "predicted_label = predictions[0]\n",
    "plt.xticks([])\n",
    "plt.yticks([])\n",
    "plt.grid(False)\n",
    "#     color_map = 'Greens' if predicted_label == y_validation_re[plot_index] else 'Reds'\n",
    "plt.subplot(num_cells, num_cells, 1)\n",
    "plt.imshow(new_data_point[0].reshape((28, 28)))\n",
    "plt.xlabel(predicted_label)\n",
    "\n",
    "plt.subplots_adjust(hspace=1, wspace=0.5)\n",
    "plt.show()"
   ]
  },
  {
   "cell_type": "code",
   "execution_count": null,
   "id": "9f86c78b",
   "metadata": {},
   "outputs": [],
   "source": []
  }
 ],
 "metadata": {
  "kernelspec": {
   "display_name": "Python 3 (ipykernel)",
   "language": "python",
   "name": "python3"
  },
  "language_info": {
   "codemirror_mode": {
    "name": "ipython",
    "version": 3
   },
   "file_extension": ".py",
   "mimetype": "text/x-python",
   "name": "python",
   "nbconvert_exporter": "python",
   "pygments_lexer": "ipython3",
   "version": "3.10.13"
  }
 },
 "nbformat": 4,
 "nbformat_minor": 5
}
