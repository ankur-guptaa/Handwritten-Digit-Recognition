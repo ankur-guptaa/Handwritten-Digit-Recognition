{
 "cells": [
  {
   "cell_type": "markdown",
   "id": "a466dd19",
   "metadata": {},
   "source": [
    "# Importing the Libraries"
   ]
  },
  {
   "cell_type": "code",
   "execution_count": 1,
   "id": "9c9109d2",
   "metadata": {},
   "outputs": [],
   "source": [
    "import numpy as np\n",
    "import keras.utils as image\n",
    "import tensorflow as tf\n",
    "import matplotlib.pyplot as plt\n",
    "import math"
   ]
  },
  {
   "cell_type": "markdown",
   "id": "6fb8cd18",
   "metadata": {},
   "source": [
    "# Importing and Extracting Features from the Images"
   ]
  },
  {
   "cell_type": "code",
   "execution_count": 2,
   "id": "d014fc6c",
   "metadata": {},
   "outputs": [],
   "source": [
    "numbers_to_display = 9\n",
    "images = np.empty(numbers_to_display, dtype=object)\n",
    "for img_idx in range(numbers_to_display):\n",
    "    test_image = image.load_img('./Handwritten_Digits_Paint/'+str(img_idx)+'.jpg', target_size = (28, 28), color_mode = 'grayscale')\n",
    "    test_image = image.img_to_array(test_image)\n",
    "    test_image = test_image.reshape((28, 28))\n",
    "    test_image = np.expand_dims(test_image, axis = 0)\n",
    "    test_image = np.expand_dims(test_image, axis = 3)\n",
    "    test_image = test_image / 255\n",
    "    images[img_idx] = test_image"
   ]
  },
  {
   "cell_type": "markdown",
   "id": "66ec0d0b",
   "metadata": {},
   "source": [
    "# Loading the Model"
   ]
  },
  {
   "cell_type": "code",
   "execution_count": 3,
   "id": "7feff216",
   "metadata": {},
   "outputs": [],
   "source": [
    "model_name = './Images/digits_recognition_cnn.h5'\n",
    "loaded_model = tf.keras.models.load_model((model_name))"
   ]
  },
  {
   "cell_type": "markdown",
   "id": "0b27660d",
   "metadata": {},
   "source": [
    "# Carrying out Predictions"
   ]
  },
  {
   "cell_type": "code",
   "execution_count": 4,
   "id": "01c88a9a",
   "metadata": {},
   "outputs": [
    {
     "name": "stdout",
     "output_type": "stream",
     "text": [
      "1/1 [==============================] - 0s 133ms/step\n",
      "1/1 [==============================] - 0s 28ms/step\n",
      "1/1 [==============================] - 0s 36ms/step\n",
      "1/1 [==============================] - 0s 28ms/step\n",
      "1/1 [==============================] - 0s 36ms/step\n",
      "1/1 [==============================] - 0s 27ms/step\n",
      "1/1 [==============================] - 0s 30ms/step\n",
      "1/1 [==============================] - 0s 28ms/step\n",
      "1/1 [==============================] - 0s 28ms/step\n"
     ]
    }
   ],
   "source": [
    "prediction = np.empty(10, dtype = object)\n",
    "for img_idx in range(numbers_to_display):\n",
    "    prediction[img_idx] = loaded_model.predict(images[img_idx])"
   ]
  },
  {
   "cell_type": "markdown",
   "id": "fca44163",
   "metadata": {},
   "source": [
    "# Visualizing the Digits and Labeling it with Predicted Values"
   ]
  },
  {
   "cell_type": "code",
   "execution_count": 5,
   "id": "8c74093d",
   "metadata": {},
   "outputs": [
    {
     "data": {
      "image/png": "[encoded data removed]",
      "text/plain": [
       "<Figure size 500x500 with 9 Axes>"
      ]
     },
     "metadata": {},
     "output_type": "display_data"
    }
   ],
   "source": [
    "num_cells = math.ceil(math.sqrt(numbers_to_display))\n",
    "plt.figure(figsize=(5,5))\n",
    "for i in range(numbers_to_display):\n",
    "    plt.subplot(num_cells, num_cells, i+1)\n",
    "    plt.xticks([])\n",
    "    plt.yticks([])\n",
    "    plt.grid(False)\n",
    "    plt.imshow(images[i].reshape(28, 28), cmap=plt.cm.binary)\n",
    "    plt.xlabel(np.argmax(prediction[i]))\n",
    "plt.show()"
   ]
  },
  {
   "cell_type": "code",
   "execution_count": null,
   "id": "4bd95788",
   "metadata": {},
   "outputs": [],
   "source": []
  }
 ],
 "metadata": {
  "kernelspec": {
   "display_name": "Python 3 (ipykernel)",
   "language": "python",
   "name": "python3"
  },
  "language_info": {
   "codemirror_mode": {
    "name": "ipython",
    "version": 3
   },
   "file_extension": ".py",
   "mimetype": "text/x-python",
   "name": "python",
   "nbconvert_exporter": "python",
   "pygments_lexer": "ipython3",
   "version": "3.10.13"
  }
 },
 "nbformat": 4,
 "nbformat_minor": 5
}
